{
 "cells": [
  {
   "cell_type": "code",
   "execution_count": null,
   "id": "2c68dc18",
   "metadata": {},
   "outputs": [],
   "source": [
    "from selenium import webdriver\n",
    "from selenium.webdriver.chrome.options import Options\n",
    "from selenium.webdriver.common.by import By\n",
    "import pandas as pd\n",
    "import time\n",
    "\n",
    "\n",
    "options = Options()\n",
    "driver = webdriver.Chrome(options=options)\n",
    "\n",
    "driver.get(\"https://sarmaaya.pk/mutual-funds/\")\n",
    "time.sleep(5)  \n",
    "\n",
    "rows = driver.find_elements(By.XPATH, \"//table[@id='funds-table']/tbody/tr\")\n",
    "\n",
    "\n",
    "data = []\n",
    "\n",
    "\n",
    "\n",
    "for row in rows:\n",
    "    cols = row.find_elements(By.TAG_NAME, \"td\")\n",
    "    if len(cols) == 14:\n",
    "        row_data = [col.get_attribute(\"innerText\").strip() for col in cols]\n",
    "        data.append(row_data)\n",
    "\n",
    "\n",
    "columns = [\n",
    "    \"Fund Name\", \"Shariah\", \"AMC Name\", \"Category Name\", \"RP\",\n",
    "    \"PM\", \"TER\", \"MF\", \"SAM\", \"Return MTD\", \"Return YTD\",\n",
    "    \"NAV\", \"Date\", \"AUM\"\n",
    "]\n",
    "\n",
    "df = pd.DataFrame(data, columns=columns)\n",
    "\n",
    "df.to_excel(\"all_mutual_funds_data.xlsx\", index=False)\n",
    "print(\" Full mutual funds data saved to 'all_mutual_funds_data.xlsx'\")\n",
    "\n",
    "# Step 7: Close browser\n",
    "driver.quit()\n"
   ]
  },
  {
   "cell_type": "code",
   "execution_count": null,
   "id": "4327a5f6",
   "metadata": {},
   "outputs": [],
   "source": []
  }
 ],
 "metadata": {
  "kernelspec": {
   "display_name": "Python 3",
   "language": "python",
   "name": "python3"
  },
  "language_info": {
   "codemirror_mode": {
    "name": "ipython",
    "version": 3
   },
   "file_extension": ".py",
   "mimetype": "text/x-python",
   "name": "python",
   "nbconvert_exporter": "python",
   "pygments_lexer": "ipython3",
   "version": "3.13.3"
  }
 },
 "nbformat": 4,
 "nbformat_minor": 5
}
