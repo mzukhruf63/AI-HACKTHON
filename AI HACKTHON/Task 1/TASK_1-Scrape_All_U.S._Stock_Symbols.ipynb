{
 "cells": [
  {
   "cell_type": "code",
   "execution_count": 2,
   "id": "2b0978ac",
   "metadata": {},
   "outputs": [],
   "source": [
    "import pandas as pd"
   ]
  },
  {
   "cell_type": "code",
   "execution_count": 3,
   "id": "bc2622fe",
   "metadata": {},
   "outputs": [],
   "source": [
    "from selenium import webdriver\n",
    "from selenium.webdriver.chrome.options import Options\n",
    "from selenium.webdriver.common.by import By\n",
    "import time\n",
    "# services\n",
    "options = Options()\n",
    "# options.add_argument(\"--headless\")\n",
    "\n",
    "driver = webdriver.Chrome(options=options)\n",
    "driver.get('https://www.tradingview.com/markets/stocks-usa/market-movers-all-stocks/')"
   ]
  },
  {
   "cell_type": "code",
   "execution_count": 4,
   "id": "506fa383",
   "metadata": {},
   "outputs": [
    {
     "data": {
      "text/plain": [
       "<selenium.webdriver.remote.webelement.WebElement (session=\"4e20699a1c945588868dc55240be54a9\", element=\"f.C42F5C3513B5057F6D168AE4CDD02F9D.d.38C67B7BC59C51823EC8314084AA24D3.e.2\")>"
      ]
     },
     "execution_count": 4,
     "metadata": {},
     "output_type": "execute_result"
    }
   ],
   "source": [
    "table = driver.find_element(By.CLASS_NAME,'root-cFX_j1gd')\n",
    "table"
   ]
  },
  {
   "cell_type": "code",
   "execution_count": null,
   "id": "85f792ff",
   "metadata": {},
   "outputs": [],
   "source": [
    "rows = table.find_elements(By.TAG_NAME,'tr')\n",
    "rows"
   ]
  },
  {
   "cell_type": "code",
   "execution_count": 6,
   "id": "860c6a86",
   "metadata": {},
   "outputs": [],
   "source": [
    "data = []\n",
    "\n",
    "for row in rows[2:]:\n",
    "    table_data = row.find_elements(By.TAG_NAME, 'td')\n",
    "\n",
    "    if len(table_data) >= 10:\n",
    "        name = table_data[1].text\n",
    "        price = table_data[1].text\n",
    "        change = table_data[2].text\n",
    "        volume = table_data[3].text\n",
    "        rel_volume = table_data[4].text\n",
    "        market_cap = table_data[5].text\n",
    "        price_to_earning_ratio = table_data[6].text\n",
    "        EPS_dil_TTM = table_data[7].text\n",
    "        EPS_dil_growth = table_data[8].text\n",
    "        Div_yield_percentage = table_data[9].text\n",
    "        data.append([\n",
    "            name, price, change, volume, rel_volume,\n",
    "            market_cap, price_to_earning_ratio, EPS_dil_TTM,\n",
    "            EPS_dil_growth, Div_yield_percentage\n",
    "        ])\n",
    "    else:\n",
    "        print(f\"⚠️ Row skipped, only {len(table_data)} columns found.\")\n"
   ]
  },
  {
   "cell_type": "code",
   "execution_count": 7,
   "id": "8373cff4",
   "metadata": {},
   "outputs": [
    {
     "name": "stdout",
     "output_type": "stream",
     "text": [
      "Created exel file\n"
     ]
    }
   ],
   "source": [
    "df = pd.DataFrame(data, columns=[\n",
    "    \"Name\", \"Price\", \"Change %\", \"Volume\", \"Rel Volume\",\n",
    "    \"Market Cap\", \"P/E\", \"EPS Dil TTM\", \"EPS Growth\", \"Div Yield %\"\n",
    "])\n",
    "\n",
    "df.to_excel(\"tradingview_stocks.xlsx\", index=False)\n",
    "print(\"Created exel file\")\n",
    "\n",
    "# Browser band karo\n",
    "driver.quit()\n"
   ]
  },
  {
   "cell_type": "code",
   "execution_count": null,
   "id": "9e86dbaa",
   "metadata": {},
   "outputs": [],
   "source": []
  }
 ],
 "metadata": {
  "kernelspec": {
   "display_name": "Python 3",
   "language": "python",
   "name": "python3"
  },
  "language_info": {
   "codemirror_mode": {
    "name": "ipython",
    "version": 3
   },
   "file_extension": ".py",
   "mimetype": "text/x-python",
   "name": "python",
   "nbconvert_exporter": "python",
   "pygments_lexer": "ipython3",
   "version": "3.13.3"
  }
 },
 "nbformat": 4,
 "nbformat_minor": 5
}
